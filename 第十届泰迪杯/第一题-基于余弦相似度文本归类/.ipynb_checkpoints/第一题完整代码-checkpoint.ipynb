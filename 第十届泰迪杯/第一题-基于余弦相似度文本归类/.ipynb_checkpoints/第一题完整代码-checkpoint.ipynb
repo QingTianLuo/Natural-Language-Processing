{
 "cells": [
  {
   "cell_type": "markdown",
   "id": "5fea9fe5",
   "metadata": {},
   "source": [
    "# 1导数数据"
   ]
  },
  {
   "cell_type": "code",
   "execution_count": 1,
   "id": "3524dd9b",
   "metadata": {},
   "outputs": [],
   "source": [
    "import warnings\n",
    "from gensim import corpora, models, similarities\n",
    "from gensim.corpora import Dictionary\n",
    "from gensim import corpora, models\n",
    "import numpy as np\n",
    "import pandas as pd\n",
    "import re\n",
    "from tqdm import tqdm\n",
    "import jieba\n",
    "tqdm.pandas()\n",
    "\n",
    "warnings.filterwarnings('ignore')\n",
    "# 读取微信公众号文章\n",
    "Wechat_article1 = pd.read_excel(\n",
    "    '2018-2019茂名（含自媒体）.xlsx', sheet_name=4)  # 微信公众号文章\n",
    "\n",
    "Wechat_article2 = pd.read_excel(\n",
    "    '2020-2021茂名（含自媒体）.xlsx', sheet_name=4)  # 微信公众号文章\n",
    "\n",
    "train_data = pd.concat([Wechat_article1, Wechat_article2], axis=0)  # 微信公众号文章\n",
    "# 合并标题和正文\n",
    "train_data['text'] = train_data['公众号标题']+'\\n'+train_data['正文']"
   ]
  },
  {
   "cell_type": "markdown",
   "id": "50baf83d",
   "metadata": {},
   "source": [
    "# 2删除特殊符号及文本分词"
   ]
  },
  {
   "cell_type": "code",
   "execution_count": 2,
   "id": "47659929",
   "metadata": {},
   "outputs": [
    {
     "name": "stderr",
     "output_type": "stream",
     "text": [
      "  0%|                                                 | 0/6286 [00:00<?, ?it/s]Building prefix dict from the default dictionary ...\n",
      "Loading model from cache C:\\Users\\USER\\AppData\\Local\\Temp\\jieba.cache\n",
      "Loading model cost 0.947 seconds.\n",
      "Prefix dict has been built successfully.\n",
      "100%|██████████████████████████████████████| 6286/6286 [01:03<00:00, 99.57it/s]\n"
     ]
    }
   ],
   "source": [
    "\n",
    "def clearTxt(line):\n",
    "    if line != '':\n",
    "        line = str(line).strip()\n",
    "        #去除文本中的英文和数字\n",
    "        line = re.sub(\"[a-zA-Z0-9]\", \"\", line)\n",
    "        #只保留中文、大小写字母\n",
    "        reg = \"[^0-9A-Za-z\\u4e00-\\u9fa5]\"\n",
    "        line = re.sub(reg, '', line)\n",
    "        #分词\n",
    "        segList = jieba.cut(line, cut_all=False)\n",
    "        segSentence = ''\n",
    "        for word in segList:\n",
    "            if word != '\\t':\n",
    "                segSentence += word + \" \"\n",
    "    return segSentence.strip()\n",
    "\n",
    "\n",
    "text = train_data['text'].progress_apply(clearTxt)"
   ]
  },
  {
   "cell_type": "markdown",
   "id": "f6de402a",
   "metadata": {},
   "source": [
    "# 3去除停止词"
   ]
  },
  {
   "cell_type": "code",
   "execution_count": 3,
   "id": "60e7ef46",
   "metadata": {},
   "outputs": [
    {
     "name": "stderr",
     "output_type": "stream",
     "text": [
      "100%|█████████████████████████████████████| 6286/6286 [01:01<00:00, 102.61it/s]\n"
     ]
    }
   ],
   "source": [
    "import codecs\n",
    "#读取停顿词列表\n",
    "stopword_list = [k.strip() for k in open(\n",
    "    'cn_stopwords.txt', encoding='utf8').readlines() if k.strip() != '']\n",
    "def stopWord(line):\n",
    "    sentence = delstopword(line, stopword_list)\n",
    "    return sentence\n",
    "#删除停用词\n",
    "def delstopword(line, stopkey):\n",
    "    wordList = line.split(' ')\n",
    "    sentence = ''\n",
    "    for word in wordList:\n",
    "        word = word.strip()\n",
    "        if word not in stopkey:\n",
    "            if word != '\\t':\n",
    "                sentence += word + \" \"\n",
    "    return sentence.strip()\n",
    "\n",
    "\n",
    "train_data['分词后文本'] = text\n",
    "text2 = list(train_data['分词后文本'].progress_apply(stopWord))"
   ]
  },
  {
   "cell_type": "markdown",
   "id": "e50e37ae",
   "metadata": {},
   "source": [
    "# 3余弦相似度计算文本相关性"
   ]
  },
  {
   "cell_type": "code",
   "execution_count": 4,
   "id": "8b19dd56",
   "metadata": {},
   "outputs": [
    {
     "data": {
      "text/html": [
       "<div>\n",
       "<style scoped>\n",
       "    .dataframe tbody tr th:only-of-type {\n",
       "        vertical-align: middle;\n",
       "    }\n",
       "\n",
       "    .dataframe tbody tr th {\n",
       "        vertical-align: top;\n",
       "    }\n",
       "\n",
       "    .dataframe thead th {\n",
       "        text-align: right;\n",
       "    }\n",
       "</style>\n",
       "<table border=\"1\" class=\"dataframe\">\n",
       "  <thead>\n",
       "    <tr style=\"text-align: right;\">\n",
       "      <th></th>\n",
       "      <th>文章ID</th>\n",
       "      <th>公众号标题</th>\n",
       "      <th>发布时间</th>\n",
       "      <th>正文</th>\n",
       "      <th>text</th>\n",
       "      <th>分词后文本</th>\n",
       "    </tr>\n",
       "  </thead>\n",
       "  <tbody>\n",
       "    <tr>\n",
       "      <th>0</th>\n",
       "      <td>1001</td>\n",
       "      <td>2018，对自己好一点</td>\n",
       "      <td>2018-01-02 17:28</td>\n",
       "      <td>2017的旅程已经结束\\n2018的未来拉开了帷幕\\n新的一年里，请对自己好一点\\n一辈子很...</td>\n",
       "      <td>2018，对自己好一点\\n2017的旅程已经结束\\n2018的未来拉开了帷幕\\n新的一年里，...</td>\n",
       "      <td>对 自己 好 一点 的 旅程 已经 结束 的 未来 拉开 了 帷幕 新 的 一年 里 请 对...</td>\n",
       "    </tr>\n",
       "    <tr>\n",
       "      <th>1</th>\n",
       "      <td>1002</td>\n",
       "      <td>春节机票预订有窍门</td>\n",
       "      <td>2018-01-02 17:28</td>\n",
       "      <td>距离春节还有一个多月的时间，在线旅游网站的春节机票销售火爆，部分航线甚至一票难求。在这里分享...</td>\n",
       "      <td>春节机票预订有窍门\\n距离春节还有一个多月的时间，在线旅游网站的春节机票销售火爆，部分航线甚...</td>\n",
       "      <td>春节 机票 预订 有 窍门 距离 春节 还有 一个多月 的 时间 在线 旅游 网站 的 春节...</td>\n",
       "    </tr>\n",
       "    <tr>\n",
       "      <th>2</th>\n",
       "      <td>1003</td>\n",
       "      <td>冬日旅游知多D</td>\n",
       "      <td>2018-01-03 17:32</td>\n",
       "      <td>960万平方公里的祖国大地，四季都有独特美景\\n冬天的旅行也别有一番风味\\n但是冬季的严寒气...</td>\n",
       "      <td>冬日旅游知多D\\n960万平方公里的祖国大地，四季都有独特美景\\n冬天的旅行也别有一番风味\\...</td>\n",
       "      <td>冬日 旅游 知 多万平方公里 的 祖国 大地 四季 都 有 独特 美景 冬天 的 旅行 也 ...</td>\n",
       "    </tr>\n",
       "    <tr>\n",
       "      <th>3</th>\n",
       "      <td>1004</td>\n",
       "      <td>2018冬季暖心之旅</td>\n",
       "      <td>2018-01-03 17:32</td>\n",
       "      <td>长按二维码，关注我们\\n中心联系人：林小姐13709649096\\n刘小姐135000781...</td>\n",
       "      <td>2018冬季暖心之旅\\n长按二维码，关注我们\\n中心联系人：林小姐13709649096\\n...</td>\n",
       "      <td>冬季 暖心 之 旅长 按 二维码 关注 我们 中心 联系人 林小姐 刘小姐 罗 小姐 陈小姐...</td>\n",
       "    </tr>\n",
       "    <tr>\n",
       "      <th>4</th>\n",
       "      <td>1005</td>\n",
       "      <td>关于粤K27618号大客车排气管“喷火”事件的情况说明</td>\n",
       "      <td>2018-01-05 16:57</td>\n",
       "      <td></td>\n",
       "      <td>关于粤K27618号大客车排气管“喷火”事件的情况说明\\n                 ...</td>\n",
       "      <td>关于 粤 号 大客车 排气管 喷火 事件 的 情况 说明</td>\n",
       "    </tr>\n",
       "    <tr>\n",
       "      <th>...</th>\n",
       "      <td>...</td>\n",
       "      <td>...</td>\n",
       "      <td>...</td>\n",
       "      <td>...</td>\n",
       "      <td>...</td>\n",
       "      <td>...</td>\n",
       "    </tr>\n",
       "    <tr>\n",
       "      <th>5660</th>\n",
       "      <td>7282</td>\n",
       "      <td>报名截止时间延期！茂名“小手拉大手·文明随手拍”活动拍拍你~</td>\n",
       "      <td>2021-10-31 15:28</td>\n",
       "      <td>由市创文巩卫办、市教育局联合主办的“小手拉大手·文明随手拍”活动举办至今已有2个多月，吸引了...</td>\n",
       "      <td>报名截止时间延期！茂名“小手拉大手·文明随手拍”活动拍拍你~\\n由市创文巩卫办、市教育局联合...</td>\n",
       "      <td>报名 截止 时间 延期 茂名 小手 拉大 手 文明 随手 拍 活动 拍拍 你 由市 创文 巩...</td>\n",
       "    </tr>\n",
       "    <tr>\n",
       "      <th>5661</th>\n",
       "      <td>7283</td>\n",
       "      <td>党史百年天天读 ·10月31日</td>\n",
       "      <td>2021-10-31 15:28</td>\n",
       "      <td>重要论述\\n\\n1984年10月31日\\n\\n邓小平会见缅甸总统、缅甸国务委员会主席吴山友，...</td>\n",
       "      <td>党史百年天天读 ·10月31日\\n重要论述\\n\\n1984年10月31日\\n\\n邓小平会见缅...</td>\n",
       "      <td>党史 百年 天天 读 月 日 重要 论述 年月日 邓小平 会见 缅甸 总统 缅甸 国务委员会...</td>\n",
       "    </tr>\n",
       "    <tr>\n",
       "      <th>5662</th>\n",
       "      <td>7284</td>\n",
       "      <td>赞！茂名这两个村入选全国示范！</td>\n",
       "      <td>2021-10-31 16:42</td>\n",
       "      <td>近日\\n农业农村部官网公布了\\n第二批全国乡村治理示范村镇名单\\n\\n\\n其中\\n高州市根子...</td>\n",
       "      <td>赞！茂名这两个村入选全国示范！\\n近日\\n农业农村部官网公布了\\n第二批全国乡村治理示范村镇...</td>\n",
       "      <td>赞 茂名 这 两个 村 入选 全国 示范 近日 农业 农村部 官网 公布 了 第二批 全国 ...</td>\n",
       "    </tr>\n",
       "    <tr>\n",
       "      <th>5663</th>\n",
       "      <td>7285</td>\n",
       "      <td>报名截止时间延期！茂名“小手拉大手·文明随手拍”活动拍拍你~</td>\n",
       "      <td>2021-10-31 16:42</td>\n",
       "      <td>由市创文巩卫办、市教育局联合主办的“小手拉大手·文明随手拍”活动举办至今已有2个多月，吸引了...</td>\n",
       "      <td>报名截止时间延期！茂名“小手拉大手·文明随手拍”活动拍拍你~\\n由市创文巩卫办、市教育局联合...</td>\n",
       "      <td>报名 截止 时间 延期 茂名 小手 拉大 手 文明 随手 拍 活动 拍拍 你 由市 创文 巩...</td>\n",
       "    </tr>\n",
       "    <tr>\n",
       "      <th>5664</th>\n",
       "      <td>7286</td>\n",
       "      <td>党史百年天天读 ·10月31日</td>\n",
       "      <td>2021-10-31 16:42</td>\n",
       "      <td>重要论述\\n\\n1984年10月31日\\n\\n邓小平会见缅甸总统、缅甸国务委员会主席吴山友，...</td>\n",
       "      <td>党史百年天天读 ·10月31日\\n重要论述\\n\\n1984年10月31日\\n\\n邓小平会见缅...</td>\n",
       "      <td>党史 百年 天天 读 月 日 重要 论述 年月日 邓小平 会见 缅甸 总统 缅甸 国务委员会...</td>\n",
       "    </tr>\n",
       "  </tbody>\n",
       "</table>\n",
       "<p>6286 rows × 6 columns</p>\n",
       "</div>"
      ],
      "text/plain": [
       "      文章ID                           公众号标题              发布时间  \\\n",
       "0     1001                     2018，对自己好一点  2018-01-02 17:28   \n",
       "1     1002                       春节机票预订有窍门  2018-01-02 17:28   \n",
       "2     1003                         冬日旅游知多D  2018-01-03 17:32   \n",
       "3     1004                      2018冬季暖心之旅  2018-01-03 17:32   \n",
       "4     1005     关于粤K27618号大客车排气管“喷火”事件的情况说明  2018-01-05 16:57   \n",
       "...    ...                             ...               ...   \n",
       "5660  7282  报名截止时间延期！茂名“小手拉大手·文明随手拍”活动拍拍你~  2021-10-31 15:28   \n",
       "5661  7283                 党史百年天天读 ·10月31日  2021-10-31 15:28   \n",
       "5662  7284                 赞！茂名这两个村入选全国示范！  2021-10-31 16:42   \n",
       "5663  7285  报名截止时间延期！茂名“小手拉大手·文明随手拍”活动拍拍你~  2021-10-31 16:42   \n",
       "5664  7286                 党史百年天天读 ·10月31日  2021-10-31 16:42   \n",
       "\n",
       "                                                     正文  \\\n",
       "0     2017的旅程已经结束\\n2018的未来拉开了帷幕\\n新的一年里，请对自己好一点\\n一辈子很...   \n",
       "1     距离春节还有一个多月的时间，在线旅游网站的春节机票销售火爆，部分航线甚至一票难求。在这里分享...   \n",
       "2     960万平方公里的祖国大地，四季都有独特美景\\n冬天的旅行也别有一番风味\\n但是冬季的严寒气...   \n",
       "3     长按二维码，关注我们\\n中心联系人：林小姐13709649096\\n刘小姐135000781...   \n",
       "4                                                         \n",
       "...                                                 ...   \n",
       "5660  由市创文巩卫办、市教育局联合主办的“小手拉大手·文明随手拍”活动举办至今已有2个多月，吸引了...   \n",
       "5661  重要论述\\n\\n1984年10月31日\\n\\n邓小平会见缅甸总统、缅甸国务委员会主席吴山友，...   \n",
       "5662  近日\\n农业农村部官网公布了\\n第二批全国乡村治理示范村镇名单\\n\\n\\n其中\\n高州市根子...   \n",
       "5663  由市创文巩卫办、市教育局联合主办的“小手拉大手·文明随手拍”活动举办至今已有2个多月，吸引了...   \n",
       "5664  重要论述\\n\\n1984年10月31日\\n\\n邓小平会见缅甸总统、缅甸国务委员会主席吴山友，...   \n",
       "\n",
       "                                                   text  \\\n",
       "0     2018，对自己好一点\\n2017的旅程已经结束\\n2018的未来拉开了帷幕\\n新的一年里，...   \n",
       "1     春节机票预订有窍门\\n距离春节还有一个多月的时间，在线旅游网站的春节机票销售火爆，部分航线甚...   \n",
       "2     冬日旅游知多D\\n960万平方公里的祖国大地，四季都有独特美景\\n冬天的旅行也别有一番风味\\...   \n",
       "3     2018冬季暖心之旅\\n长按二维码，关注我们\\n中心联系人：林小姐13709649096\\n...   \n",
       "4     关于粤K27618号大客车排气管“喷火”事件的情况说明\\n                 ...   \n",
       "...                                                 ...   \n",
       "5660  报名截止时间延期！茂名“小手拉大手·文明随手拍”活动拍拍你~\\n由市创文巩卫办、市教育局联合...   \n",
       "5661  党史百年天天读 ·10月31日\\n重要论述\\n\\n1984年10月31日\\n\\n邓小平会见缅...   \n",
       "5662  赞！茂名这两个村入选全国示范！\\n近日\\n农业农村部官网公布了\\n第二批全国乡村治理示范村镇...   \n",
       "5663  报名截止时间延期！茂名“小手拉大手·文明随手拍”活动拍拍你~\\n由市创文巩卫办、市教育局联合...   \n",
       "5664  党史百年天天读 ·10月31日\\n重要论述\\n\\n1984年10月31日\\n\\n邓小平会见缅...   \n",
       "\n",
       "                                                  分词后文本  \n",
       "0     对 自己 好 一点 的 旅程 已经 结束 的 未来 拉开 了 帷幕 新 的 一年 里 请 对...  \n",
       "1     春节 机票 预订 有 窍门 距离 春节 还有 一个多月 的 时间 在线 旅游 网站 的 春节...  \n",
       "2     冬日 旅游 知 多万平方公里 的 祖国 大地 四季 都 有 独特 美景 冬天 的 旅行 也 ...  \n",
       "3     冬季 暖心 之 旅长 按 二维码 关注 我们 中心 联系人 林小姐 刘小姐 罗 小姐 陈小姐...  \n",
       "4                          关于 粤 号 大客车 排气管 喷火 事件 的 情况 说明  \n",
       "...                                                 ...  \n",
       "5660  报名 截止 时间 延期 茂名 小手 拉大 手 文明 随手 拍 活动 拍拍 你 由市 创文 巩...  \n",
       "5661  党史 百年 天天 读 月 日 重要 论述 年月日 邓小平 会见 缅甸 总统 缅甸 国务委员会...  \n",
       "5662  赞 茂名 这 两个 村 入选 全国 示范 近日 农业 农村部 官网 公布 了 第二批 全国 ...  \n",
       "5663  报名 截止 时间 延期 茂名 小手 拉大 手 文明 随手 拍 活动 拍拍 你 由市 创文 巩...  \n",
       "5664  党史 百年 天天 读 月 日 重要 论述 年月日 邓小平 会见 缅甸 总统 缅甸 国务委员会...  \n",
       "\n",
       "[6286 rows x 6 columns]"
      ]
     },
     "execution_count": 4,
     "metadata": {},
     "output_type": "execute_result"
    }
   ],
   "source": [
    "train_data"
   ]
  },
  {
   "cell_type": "code",
   "execution_count": 5,
   "id": "554fcb63",
   "metadata": {},
   "outputs": [],
   "source": [
    "###余弦相似度\n",
    "def cosine_similarity(seg1,seg2) -> float:\n",
    "    \n",
    "    word_list = list(set([word for word in seg1 + seg2]))#建立词库\n",
    "    word_count_vec_1 = []\n",
    "    word_count_vec_2 = []\n",
    "    for word in word_list:\n",
    "        word_count_vec_1.append(seg1.count(word))#文本1统计在词典里出现词的次数\n",
    "        word_count_vec_2.append(seg2.count(word))#文本2统计在词典里出现词的次数\n",
    "\n",
    "    vec_1 = np.array(word_count_vec_1)\n",
    "    vec_2 = np.array(word_count_vec_2)\n",
    "    #余弦公式\n",
    "\n",
    "    num = vec_1.dot(vec_2.T)\n",
    "    denom = np.linalg.norm(vec_1) * np.linalg.norm(vec_2)\n",
    "    cos = num / denom\n",
    "    sim = 0.5 + 0.5 * cos\n",
    "\n",
    "    return sim"
   ]
  },
  {
   "cell_type": "code",
   "execution_count": 6,
   "id": "46661cd1",
   "metadata": {
    "scrolled": true
   },
   "outputs": [],
   "source": [
    "##导入相关主题词\n",
    "s1 = '旅游、活动、节庆、特产、交通、酒店、景区、景点、文创、文化、乡村旅游、民宿、假日、假期、游客、采摘、赏花、春游、踏青、康养、公园、滨海游、度假、农家乐、剧本杀、旅行、徒步、工业旅游、线路、自驾游、团队游、攻略、游记、包车、玻璃栈道、游艇、高尔夫、温泉'.replace('、', ' ')\n",
    "relation_word=list(s1.split(\" \"))"
   ]
  },
  {
   "cell_type": "code",
   "execution_count": 7,
   "id": "1f4c2669",
   "metadata": {},
   "outputs": [],
   "source": [
    "#计算相似度，以字典形式存放\n",
    "result={}\n",
    "for i in range(len(text2)):\n",
    "    sim=cosine_similarity([word for word in text2[i].split(\" \") if word !=\"\"],relation_word)\n",
    "    result[i]=sim"
   ]
  },
  {
   "cell_type": "code",
   "execution_count": 10,
   "id": "7fc0ba49",
   "metadata": {},
   "outputs": [],
   "source": [
    "##上文字典中的相似度取出，以列表形式存放\n",
    "num=[]\n",
    "for i in range(len(text2)):\n",
    "    num.append(result[i])"
   ]
  },
  {
   "cell_type": "code",
   "execution_count": 11,
   "id": "8b4ce772",
   "metadata": {},
   "outputs": [
    {
     "data": {
      "text/html": [
       "<div>\n",
       "<style scoped>\n",
       "    .dataframe tbody tr th:only-of-type {\n",
       "        vertical-align: middle;\n",
       "    }\n",
       "\n",
       "    .dataframe tbody tr th {\n",
       "        vertical-align: top;\n",
       "    }\n",
       "\n",
       "    .dataframe thead th {\n",
       "        text-align: right;\n",
       "    }\n",
       "</style>\n",
       "<table border=\"1\" class=\"dataframe\">\n",
       "  <thead>\n",
       "    <tr style=\"text-align: right;\">\n",
       "      <th></th>\n",
       "      <th>文章ID</th>\n",
       "      <th>分类标签</th>\n",
       "    </tr>\n",
       "  </thead>\n",
       "  <tbody>\n",
       "    <tr>\n",
       "      <th>0</th>\n",
       "      <td>0001</td>\n",
       "      <td>相关</td>\n",
       "    </tr>\n",
       "    <tr>\n",
       "      <th>1</th>\n",
       "      <td>0002</td>\n",
       "      <td>相关</td>\n",
       "    </tr>\n",
       "    <tr>\n",
       "      <th>2</th>\n",
       "      <td>0003</td>\n",
       "      <td>相关</td>\n",
       "    </tr>\n",
       "    <tr>\n",
       "      <th>3</th>\n",
       "      <td>0004</td>\n",
       "      <td>不相关</td>\n",
       "    </tr>\n",
       "    <tr>\n",
       "      <th>4</th>\n",
       "      <td>0005</td>\n",
       "      <td>不相关</td>\n",
       "    </tr>\n",
       "    <tr>\n",
       "      <th>...</th>\n",
       "      <td>...</td>\n",
       "      <td>...</td>\n",
       "    </tr>\n",
       "    <tr>\n",
       "      <th>6281</th>\n",
       "      <td>6282</td>\n",
       "      <td>相关</td>\n",
       "    </tr>\n",
       "    <tr>\n",
       "      <th>6282</th>\n",
       "      <td>6283</td>\n",
       "      <td>相关</td>\n",
       "    </tr>\n",
       "    <tr>\n",
       "      <th>6283</th>\n",
       "      <td>6284</td>\n",
       "      <td>相关</td>\n",
       "    </tr>\n",
       "    <tr>\n",
       "      <th>6284</th>\n",
       "      <td>6285</td>\n",
       "      <td>相关</td>\n",
       "    </tr>\n",
       "    <tr>\n",
       "      <th>6285</th>\n",
       "      <td>6286</td>\n",
       "      <td>相关</td>\n",
       "    </tr>\n",
       "  </tbody>\n",
       "</table>\n",
       "<p>6286 rows × 2 columns</p>\n",
       "</div>"
      ],
      "text/plain": [
       "      文章ID 分类标签\n",
       "0     0001   相关\n",
       "1     0002   相关\n",
       "2     0003   相关\n",
       "3     0004  不相关\n",
       "4     0005  不相关\n",
       "...    ...  ...\n",
       "6281  6282   相关\n",
       "6282  6283   相关\n",
       "6283  6284   相关\n",
       "6284  6285   相关\n",
       "6285  6286   相关\n",
       "\n",
       "[6286 rows x 2 columns]"
      ]
     },
     "execution_count": 11,
     "metadata": {},
     "output_type": "execute_result"
    }
   ],
   "source": [
    "##以文本相似度算文章是否相关，这里选了0.5\n",
    "sim_num = num\n",
    "label = []\n",
    "for i in enumerate(sim_num):\n",
    "    if i[1]>0.5:\n",
    "        label.append('相关')\n",
    "    else:\n",
    "        label.append('不相关')\n",
    "result1 = pd.DataFrame(columns=['文章ID','分类标签'])\n",
    "\n",
    "result1['文章ID'] = [str(i+1).zfill(4) for i in range(len(train_data))]\n",
    "result1['分类标签'] =label\n",
    "result1"
   ]
  },
  {
   "cell_type": "markdown",
   "id": "52a45b96",
   "metadata": {},
   "source": [
    "# 4主观统计相关与不相关个数看效果，适当调整上文阈值"
   ]
  },
  {
   "cell_type": "code",
   "execution_count": 12,
   "id": "1666ab7e",
   "metadata": {},
   "outputs": [
    {
     "data": {
      "text/plain": [
       "4387"
      ]
     },
     "execution_count": 12,
     "metadata": {},
     "output_type": "execute_result"
    }
   ],
   "source": [
    "sum(1 for i in result1[\"分类标签\"] if str(i) ==\"相关\")"
   ]
  },
  {
   "cell_type": "code",
   "execution_count": 13,
   "id": "85e06c5a",
   "metadata": {},
   "outputs": [
    {
     "data": {
      "text/plain": [
       "1899"
      ]
     },
     "execution_count": 13,
     "metadata": {},
     "output_type": "execute_result"
    }
   ],
   "source": [
    "sum(1 for i in result1[\"分类标签\"] if str(i) ==\"不相关\")"
   ]
  },
  {
   "cell_type": "markdown",
   "id": "33e3dd71",
   "metadata": {},
   "source": [
    "# 5最终确定后导出数据"
   ]
  },
  {
   "cell_type": "code",
   "execution_count": 25,
   "id": "b58ff375",
   "metadata": {},
   "outputs": [],
   "source": [
    "result1.to_csv('result1.csv',index=False)"
   ]
  }
 ],
 "metadata": {
  "kernelspec": {
   "display_name": "Python 3",
   "language": "python",
   "name": "python3"
  },
  "language_info": {
   "codemirror_mode": {
    "name": "ipython",
    "version": 3
   },
   "file_extension": ".py",
   "mimetype": "text/x-python",
   "name": "python",
   "nbconvert_exporter": "python",
   "pygments_lexer": "ipython3",
   "version": "3.8.8"
  }
 },
 "nbformat": 4,
 "nbformat_minor": 5
}
